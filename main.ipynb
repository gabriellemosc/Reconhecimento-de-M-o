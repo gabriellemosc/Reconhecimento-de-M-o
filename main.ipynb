{
 "cells": [
  {
   "cell_type": "markdown",
   "metadata": {},
   "source": [
    "## Reconhecimento de Imagem com Python"
   ]
  },
  {
   "cell_type": "code",
   "execution_count": 6,
   "metadata": {},
   "outputs": [
    {
     "ename": "",
     "evalue": "",
     "output_type": "error",
     "traceback": [
      "\u001b[1;31mO Kernel deu pane ao executar o código na célula atual ou em uma célula anterior. \n",
      "\u001b[1;31mAnalise o código nas células para identificar uma possível causa da pane. \n",
      "\u001b[1;31mClique <a href='https://aka.ms/vscodeJupyterKernelCrash'>aqui</a> para obter mais informações. \n",
      "\u001b[1;31mConsulte Jupyter <a href='command:jupyter.viewOutput'>log</a> para obter mais detalhes."
     ]
    }
   ],
   "source": [
    "import cv2\n",
    "import mediapipe as mp\n",
    "\n",
    "\n",
    "#Vincular a webcan ao python\n",
    "webcam = cv2.VideoCapture(0)             #Seleciona a webcam\n",
    "\n",
    "#Inicializa o mediapipe\n",
    "reconhecimento_mao = mp.solutions.hands\n",
    "desenho_mp = mp.solutions.drawing_utils\n",
    "maos = reconhecimento_mao.Hands()\n",
    "\n",
    "\n",
    "#Oq acontece se ele n conseguir conectar à webcam\n",
    "\n",
    "if webcam.isOpened():\n",
    "  #ler a webcam\n",
    "  validacao, frame = webcam.read()       #Irá dar duas info como resposta, que iremos armazenar nas duas VARs => Unpacking\n",
    "  #Entender o print webcam.read => Pegar vários frame por segundo\n",
    "  #Loop infinito\n",
    "  while validacao == True:                       #Enquanto a webcam estiver sendo lida\n",
    "    #pegar o prox frame da tela\n",
    "    validacao, frame = webcam.read()  \n",
    "\n",
    "    \n",
    "    #Converte BGR(padrao cv2) para RGB(mediapipe)\n",
    "    frameRGB = cv2.cvtColor(frame, cv2.COLOR_BGR2RGB)\n",
    "\n",
    "    #Desenhar mão\n",
    "    lista_maos = maos.process(frameRGB)      #Retorna objetos python\n",
    "    if lista_maos.multi_hand_landmarks:       \n",
    "      for mao in lista_maos.multi_hand_landmarks:   #Desenhamos cada mao na lista de mão que recebemos\n",
    "        desenho_mp.draw_landmarks(frame, mao, reconhecimento_mao.HAND_CONNECTIONS)\n",
    "\n",
    "    #Mostrar o frame que estamos vendo\n",
    "    cv2.imshow(\"Imagem Webcam\", frame)\n",
    "\n",
    "    #Mandar o python esperar => Pois caso o contrário, o python irá executar infinitimante\n",
    "    tecla = cv2.waitKey(1)  #Armazena uma tecla na var, e o python para por 2 milisegundos => 30FPS\n",
    "\n",
    "    #Mandar parar \n",
    "    if tecla == 27:   #tecla ESC, o código é 27 na tabela ASCII\n",
    "      break\n",
    "\n",
    "\n",
    "#Ele continua conectado na webcam\n",
    "webcam.release()                          #Desfazer o contato com a webcam\n",
    "cv2.destroyAllWindows()"
   ]
  }
 ],
 "metadata": {
  "kernelspec": {
   "display_name": "Python 3",
   "language": "python",
   "name": "python3"
  },
  "language_info": {
   "codemirror_mode": {
    "name": "ipython",
    "version": 3
   },
   "file_extension": ".py",
   "mimetype": "text/x-python",
   "name": "python",
   "nbconvert_exporter": "python",
   "pygments_lexer": "ipython3",
   "version": "3.12.4"
  }
 },
 "nbformat": 4,
 "nbformat_minor": 2
}
